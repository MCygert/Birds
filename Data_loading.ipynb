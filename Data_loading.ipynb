{
 "cells": [
  {
   "cell_type": "code",
   "execution_count": 2,
   "metadata": {
    "collapsed": true
   },
   "outputs": [],
   "source": [
    "import matplotlib.pyplot as plt\n",
    "import pandas as pd\n",
    "import seaborn as sns\n",
    "import numpy as np\n",
    "import random\n",
    "import soundfile as sf\n",
    "import IPython.display as ipd\n",
    "import tensorflow as tf\n",
    "import tensorflow_io as tfio\n",
    "from pathlib import Path\n",
    "import os"
   ]
  },
  {
   "cell_type": "markdown",
   "source": [
    "## Create data loading pipeline.\n",
    "Files are in directories which are labels."
   ],
   "metadata": {
    "collapsed": false
   }
  },
  {
   "cell_type": "code",
   "execution_count": 3,
   "outputs": [
    {
     "data": {
      "text/plain": "WindowsPath('data/train_audio')"
     },
     "execution_count": 3,
     "metadata": {},
     "output_type": "execute_result"
    }
   ],
   "source": [
    "birds_root = \"data/train_audio\"\n",
    "birds_root = Path(birds_root)\n",
    "birds_root"
   ],
   "metadata": {
    "collapsed": false,
    "pycharm": {
     "name": "#%%\n"
    }
   }
  },
  {
   "cell_type": "code",
   "execution_count": 4,
   "outputs": [
    {
     "name": "stdout",
     "output_type": "stream",
     "text": [
      "b'data\\\\train_audio\\\\dunlin\\\\XC309174.ogg'\n",
      "b'data\\\\train_audio\\\\commyn\\\\XC379536.ogg'\n",
      "b'data\\\\train_audio\\\\houspa\\\\XC526399.ogg'\n",
      "b'data\\\\train_audio\\\\gadwal\\\\XC474375.ogg'\n",
      "b'data\\\\train_audio\\\\bkbplo\\\\XC591653.ogg'\n"
     ]
    }
   ],
   "source": [
    "list_ds = tf.data.Dataset.list_files(str(birds_root/'*/*'))\n",
    "for f in list_ds.take(5):\n",
    "    print(f.numpy())"
   ],
   "metadata": {
    "collapsed": false,
    "pycharm": {
     "name": "#%%\n"
    }
   }
  },
  {
   "cell_type": "code",
   "execution_count": 7,
   "outputs": [
    {
     "name": "stdout",
     "output_type": "stream",
     "text": [
      "(1161088, 1)\n",
      "b'moudov'\n"
     ]
    }
   ],
   "source": [
    "def process_path(file_path):\n",
    "    label = tf.strings.split(file_path, os.sep)[-2]\n",
    "    return tfio.audio.AudioIOTensor(file_path, dtype=tf.float32).to_tensor(), label\n",
    "\n",
    "labeled_ds = list_ds.map(process_path)\n",
    "for f, label in labeled_ds.take(1):\n",
    "    print(f.shape)\n",
    "    print(label.numpy())\n",
    "\n"
   ],
   "metadata": {
    "collapsed": false,
    "pycharm": {
     "name": "#%%\n"
    }
   }
  }
 ],
 "metadata": {
  "kernelspec": {
   "display_name": "Python 3",
   "language": "python",
   "name": "python3"
  },
  "language_info": {
   "codemirror_mode": {
    "name": "ipython",
    "version": 2
   },
   "file_extension": ".py",
   "mimetype": "text/x-python",
   "name": "python",
   "nbconvert_exporter": "python",
   "pygments_lexer": "ipython2",
   "version": "2.7.6"
  }
 },
 "nbformat": 4,
 "nbformat_minor": 0
}